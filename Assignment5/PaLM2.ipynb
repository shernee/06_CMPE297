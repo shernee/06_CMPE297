{
  "nbformat": 4,
  "nbformat_minor": 0,
  "metadata": {
    "colab": {
      "provenance": [],
      "include_colab_link": true
    },
    "kernelspec": {
      "name": "python3",
      "display_name": "Python 3"
    },
    "language_info": {
      "name": "python"
    }
  },
  "cells": [
    {
      "cell_type": "markdown",
      "metadata": {
        "id": "view-in-github",
        "colab_type": "text"
      },
      "source": [
        "<a href=\"https://colab.research.google.com/github/shernee/06_CMPE297/blob/main/PaLM2.ipynb\" target=\"_parent\"><img src=\"https://colab.research.google.com/assets/colab-badge.svg\" alt=\"Open In Colab\"/></a>"
      ]
    },
    {
      "cell_type": "code",
      "execution_count": null,
      "metadata": {
        "id": "v1KAX1GyogfW",
        "colab": {
          "base_uri": "https://localhost:8080/"
        },
        "outputId": "c7ea3f93-1724-47a5-b3de-e12825c80055"
      },
      "outputs": [
        {
          "output_type": "stream",
          "name": "stdout",
          "text": [
            "\u001b[?25l     \u001b[90m━━━━━━━━━━━━━━━━━━━━━━━━━━━━━━━━━━━━━━━━\u001b[0m \u001b[32m0.0/133.2 kB\u001b[0m \u001b[31m?\u001b[0m eta \u001b[36m-:--:--\u001b[0m\r\u001b[2K     \u001b[91m━━━━━━━━━━━━━━━━━━━━━━━━━━━\u001b[0m\u001b[91m╸\u001b[0m\u001b[90m━━━━━━━━━━━━\u001b[0m \u001b[32m92.2/133.2 kB\u001b[0m \u001b[31m2.5 MB/s\u001b[0m eta \u001b[36m0:00:01\u001b[0m\r\u001b[2K     \u001b[90m━━━━━━━━━━━━━━━━━━━━━━━━━━━━━━━━━━━━━━━━\u001b[0m \u001b[32m133.2/133.2 kB\u001b[0m \u001b[31m2.7 MB/s\u001b[0m eta \u001b[36m0:00:00\u001b[0m\n",
            "\u001b[?25h\u001b[?25l     \u001b[90m━━━━━━━━━━━━━━━━━━━━━━━━━━━━━━━━━━━━━━━━\u001b[0m \u001b[32m0.0/267.9 kB\u001b[0m \u001b[31m?\u001b[0m eta \u001b[36m-:--:--\u001b[0m\r\u001b[2K     \u001b[90m━━━━━━━━━━━━━━━━━━━━━━━━━━━━━━━━━━━━━━━━\u001b[0m \u001b[32m267.9/267.9 kB\u001b[0m \u001b[31m12.4 MB/s\u001b[0m eta \u001b[36m0:00:00\u001b[0m\n",
            "\u001b[?25h"
          ]
        }
      ],
      "source": [
        "!pip install -q google-generativeai"
      ]
    },
    {
      "cell_type": "code",
      "source": [
        "import google.generativeai as palm\n",
        "import pprint"
      ],
      "metadata": {
        "id": "G7mwYd06o0Ww"
      },
      "execution_count": null,
      "outputs": []
    },
    {
      "cell_type": "code",
      "source": [
        "palm.configure(api_key='')"
      ],
      "metadata": {
        "id": "b_umB738o5LV"
      },
      "execution_count": null,
      "outputs": []
    },
    {
      "cell_type": "code",
      "source": [
        "models = [m for m in palm.list_models() if 'generateText' in m.supported_generation_methods]\n",
        "model = models[0].name\n",
        "print(model)"
      ],
      "metadata": {
        "colab": {
          "base_uri": "https://localhost:8080/"
        },
        "id": "BEUKfYoApClv",
        "outputId": "a723db4c-c906-45c1-994f-eb5f871cfab5"
      },
      "execution_count": null,
      "outputs": [
        {
          "output_type": "stream",
          "name": "stdout",
          "text": [
            "models/text-bison-001\n"
          ]
        }
      ]
    },
    {
      "cell_type": "markdown",
      "source": [
        "### Pro and Con Discusser"
      ],
      "metadata": {
        "id": "XJMdlZhvpzOU"
      }
    },
    {
      "cell_type": "code",
      "source": [
        "prompt = \"\"\"\n",
        "You have abundant knowledge and are an expert at evaluating different scenarios.\n",
        "\n",
        "Tell me what are the pros and cons of learning to play the guitar vs learning to play a paino.\n",
        "\"\"\"\n",
        "\n",
        "completion = palm.generate_text(\n",
        "    model=model,\n",
        "    prompt=prompt,\n",
        "    temperature=0.6,\n",
        "    max_output_tokens=1024,\n",
        ")\n",
        "\n",
        "print(completion.result)"
      ],
      "metadata": {
        "colab": {
          "base_uri": "https://localhost:8080/"
        },
        "id": "JRNQ2lYmpGTT",
        "outputId": "068ebc6e-0920-4564-b00d-2e15b27aee08"
      },
      "execution_count": null,
      "outputs": [
        {
          "output_type": "stream",
          "name": "stdout",
          "text": [
            "There are many factors to consider when choosing between learning to play the guitar and the piano. Both instruments have their own unique advantages and disadvantages, and the best choice for you will depend on your individual preferences and goals.\n",
            "\n",
            "**Guitar**\n",
            "\n",
            "* **Pros:**\n",
            "    * The guitar is a relatively portable instrument, making it easy to practice anywhere.\n",
            "    * It is a relatively inexpensive instrument to buy and maintain.\n",
            "    * The guitar is a versatile instrument that can be used to play a wide variety of genres of music.\n",
            "    * Learning to play the guitar can be a fun and rewarding experience.\n",
            "\n",
            "* **Cons:**\n",
            "    * The guitar can be difficult to learn, especially for beginners.\n",
            "    * Playing the guitar requires good finger dexterity and coordination.\n",
            "    * The guitar can be loud, which may be a problem if you live in an apartment or other shared living space.\n",
            "\n",
            "**Piano**\n",
            "\n",
            "* **Pros:**\n",
            "    * The piano is a relatively easy instrument to learn, especially for beginners.\n",
            "    * The piano has a wide range of notes, making it possible to play a variety of different melodies and harmonies.\n",
            "    * The piano is a good choice for people who want to learn to read music.\n",
            "    * The piano is a beautiful instrument that can add a touch of class to any room.\n",
            "\n",
            "* **Cons:**\n",
            "    * The piano is a large and expensive instrument, making it difficult to transport.\n",
            "    * The piano requires regular tuning, which can be costly.\n",
            "    * Playing the piano can be difficult for people with small hands or limited finger mobility.\n",
            "\n",
            "Ultimately, the best way to decide which instrument is right for you is to try them both out and see what you like best. If you are still having trouble deciding, you can always talk to a music teacher or other experienced musician for advice.\n",
            "\n",
            "Here is a table summarizing the pros and cons of each instrument:\n",
            "\n",
            "| Feature | Guitar | Piano |\n",
            "|---|---|---|\n",
            "| Portability | Yes | No |\n",
            "| Cost | Inexpensive | Expensive |\n",
            "| Versatility | Yes | Yes |\n",
            "| Difficulty | Difficult | Easy |\n",
            "| Loudness | Yes | No |\n",
            "| Learning curve | Long | Short |\n",
            "| Tuning | No | Yes |\n",
            "| Size | Small | Large |\n",
            "\n",
            "## Conclusion\n",
            "\n",
            "The decision of which instrument to learn is a personal one. There is no right or wrong answer, the best instrument for you is the one that you enjoy playing the most.\n"
          ]
        }
      ]
    },
    {
      "cell_type": "markdown",
      "source": [
        "### Tips on landscaping"
      ],
      "metadata": {
        "id": "IEhToJcAq06o"
      }
    },
    {
      "cell_type": "code",
      "source": [
        "prompt = \"\"\"\n",
        "You have seen a overseen a lot of landscaping projects and are also an expert gardener.\n",
        "\n",
        "Give me a set of 10 tips to landscape my garden into having various natural looking elements.\n",
        "\"\"\"\n",
        "\n",
        "completion = palm.generate_text(\n",
        "    model=model,\n",
        "    prompt=prompt,\n",
        "    temperature=0.7,\n",
        "    max_output_tokens=1024,\n",
        ")\n",
        "\n",
        "print(completion.result)"
      ],
      "metadata": {
        "colab": {
          "base_uri": "https://localhost:8080/"
        },
        "id": "dbG7cnXssxQQ",
        "outputId": "0c43a838-78c6-4616-a95e-ce4df861d661"
      },
      "execution_count": null,
      "outputs": [
        {
          "output_type": "stream",
          "name": "stdout",
          "text": [
            "1. **Choose plants that are native to your area.** This will help them thrive in your climate and reduce the need for watering and maintenance.\n",
            "2. **Create a layered landscape.** This means incorporating plants of different heights, textures, and colors to create interest and depth.\n",
            "3. **Add rocks, boulders, and other natural elements.** These can help to create a sense of place and add visual interest.\n",
            "4. **Incorporate water features.** A pond, fountain, or even a birdbath can add a calming element to your garden.\n",
            "5. **Use mulch to help retain moisture and suppress weeds.** Mulch also helps to improve the appearance of your garden and can extend the life of your plants.\n",
            "6. **Prune your plants regularly.** This will help to keep them healthy and in shape.\n",
            "7. **Water your plants deeply and infrequently.** This will help to encourage deep roots and reduce the need for watering.\n",
            "8. **Fertilize your plants according to the directions on the package.** Too much fertilizer can damage your plants, so it's important to use it sparingly.\n",
            "9. **Watch out for pests and diseases.** There are a number of natural ways to control pests and diseases, such as using neem oil or insecticidal soap.\n",
            "10. **Enjoy your garden!** Gardening is a great way to relax and connect with nature. So take some time to sit back and enjoy your beautiful landscape.\n"
          ]
        }
      ]
    },
    {
      "cell_type": "markdown",
      "source": [
        "### Marketing slogans Generator"
      ],
      "metadata": {
        "id": "8r0BSHvFsvGX"
      }
    },
    {
      "cell_type": "code",
      "source": [
        "prompt = \"\"\"\n",
        "You will be provided with a description of a product and some adjectives for it. Create five short marketing slogans for this product\n",
        "\n",
        "Product description: An software application that acts as a marketplace for plants and gardening\n",
        "Seed words: fast, intuitive, easy-to-use, user-friendly.\n",
        "\n",
        "The slogans should be 8 words long at maximum and should reflect the qualities as described by the adjectives.\n",
        "\"\"\"\n",
        "\n",
        "completion = palm.generate_text(\n",
        "    model=model,\n",
        "    prompt=prompt,\n",
        "    temperature=0.8,\n",
        "    max_output_tokens=512,\n",
        ")\n",
        "\n",
        "print(completion.result)"
      ],
      "metadata": {
        "colab": {
          "base_uri": "https://localhost:8080/"
        },
        "id": "mAze_kBwtZ-B",
        "outputId": "7a38b4ea-8dff-42d6-eda1-b308eea90c91"
      },
      "execution_count": null,
      "outputs": [
        {
          "output_type": "stream",
          "name": "stdout",
          "text": [
            "1. **Find the plants you need, fast and easy.**\n",
            "2. **The user-friendly marketplace for plants and gardening.**\n",
            "3. **Intuitive and easy-to-use gardening marketplace.**\n",
            "4. **Find the perfect plants for your garden, today.**\n",
            "5. **The fast, easy, and affordable way to buy plants.**\n"
          ]
        }
      ]
    },
    {
      "cell_type": "code",
      "source": [],
      "metadata": {
        "id": "4mMhfs5iuMRZ"
      },
      "execution_count": null,
      "outputs": []
    }
  ]
}