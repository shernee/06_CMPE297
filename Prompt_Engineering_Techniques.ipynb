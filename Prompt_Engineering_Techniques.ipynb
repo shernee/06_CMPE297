{
  "nbformat": 4,
  "nbformat_minor": 0,
  "metadata": {
    "colab": {
      "provenance": [],
      "include_colab_link": true
    },
    "kernelspec": {
      "name": "python3",
      "display_name": "Python 3"
    },
    "language_info": {
      "name": "python"
    }
  },
  "cells": [
    {
      "cell_type": "markdown",
      "metadata": {
        "id": "view-in-github",
        "colab_type": "text"
      },
      "source": [
        "<a href=\"https://colab.research.google.com/github/shernee/06_CMPE297/blob/main/Prompt_Engineering_Techniques.ipynb\" target=\"_parent\"><img src=\"https://colab.research.google.com/assets/colab-badge.svg\" alt=\"Open In Colab\"/></a>"
      ]
    },
    {
      "cell_type": "code",
      "execution_count": null,
      "metadata": {
        "colab": {
          "base_uri": "https://localhost:8080/"
        },
        "id": "seREPaTdQbiA",
        "outputId": "38d6b6b3-1ba7-4cbd-99e3-6d3bd76f7f89"
      },
      "outputs": [
        {
          "output_type": "stream",
          "name": "stdout",
          "text": [
            "Collecting openai\n",
            "  Downloading openai-0.28.1-py3-none-any.whl (76 kB)\n",
            "\u001b[2K     \u001b[90m━━━━━━━━━━━━━━━━━━━━━━━━━━━━━━━━━━━━━━━━\u001b[0m \u001b[32m77.0/77.0 kB\u001b[0m \u001b[31m1.7 MB/s\u001b[0m eta \u001b[36m0:00:00\u001b[0m\n",
            "\u001b[?25hRequirement already satisfied: requests>=2.20 in /usr/local/lib/python3.10/dist-packages (from openai) (2.31.0)\n",
            "Requirement already satisfied: tqdm in /usr/local/lib/python3.10/dist-packages (from openai) (4.66.1)\n",
            "Requirement already satisfied: aiohttp in /usr/local/lib/python3.10/dist-packages (from openai) (3.8.6)\n",
            "Requirement already satisfied: charset-normalizer<4,>=2 in /usr/local/lib/python3.10/dist-packages (from requests>=2.20->openai) (3.3.1)\n",
            "Requirement already satisfied: idna<4,>=2.5 in /usr/local/lib/python3.10/dist-packages (from requests>=2.20->openai) (3.4)\n",
            "Requirement already satisfied: urllib3<3,>=1.21.1 in /usr/local/lib/python3.10/dist-packages (from requests>=2.20->openai) (2.0.7)\n",
            "Requirement already satisfied: certifi>=2017.4.17 in /usr/local/lib/python3.10/dist-packages (from requests>=2.20->openai) (2023.7.22)\n",
            "Requirement already satisfied: attrs>=17.3.0 in /usr/local/lib/python3.10/dist-packages (from aiohttp->openai) (23.1.0)\n",
            "Requirement already satisfied: multidict<7.0,>=4.5 in /usr/local/lib/python3.10/dist-packages (from aiohttp->openai) (6.0.4)\n",
            "Requirement already satisfied: async-timeout<5.0,>=4.0.0a3 in /usr/local/lib/python3.10/dist-packages (from aiohttp->openai) (4.0.3)\n",
            "Requirement already satisfied: yarl<2.0,>=1.0 in /usr/local/lib/python3.10/dist-packages (from aiohttp->openai) (1.9.2)\n",
            "Requirement already satisfied: frozenlist>=1.1.1 in /usr/local/lib/python3.10/dist-packages (from aiohttp->openai) (1.4.0)\n",
            "Requirement already satisfied: aiosignal>=1.1.2 in /usr/local/lib/python3.10/dist-packages (from aiohttp->openai) (1.3.1)\n",
            "Installing collected packages: openai\n",
            "\u001b[31mERROR: pip's dependency resolver does not currently take into account all the packages that are installed. This behaviour is the source of the following dependency conflicts.\n",
            "llmx 0.0.15a0 requires cohere, which is not installed.\n",
            "llmx 0.0.15a0 requires tiktoken, which is not installed.\u001b[0m\u001b[31m\n",
            "\u001b[0mSuccessfully installed openai-0.28.1\n"
          ]
        }
      ],
      "source": [
        "!pip install openai"
      ]
    },
    {
      "cell_type": "code",
      "source": [
        "import openai"
      ],
      "metadata": {
        "id": "XjeRy7tHRJhr"
      },
      "execution_count": null,
      "outputs": []
    },
    {
      "cell_type": "code",
      "source": [
        "openai.api_key = \"\""
      ],
      "metadata": {
        "id": "Ug2ED4p4RO0y"
      },
      "execution_count": null,
      "outputs": []
    },
    {
      "cell_type": "code",
      "source": [
        "def generate(prompt):\n",
        "    response = openai.Completion.create(\n",
        "        model=\"text-davinci-003\",\n",
        "        prompt=prompt,\n",
        "        max_tokens=256,\n",
        "        temperature=0.5\n",
        "    )\n",
        "    answer = response.choices[0].text.strip()\n",
        "    print(answer)"
      ],
      "metadata": {
        "id": "4o5IvZs6RUYp"
      },
      "execution_count": null,
      "outputs": []
    },
    {
      "cell_type": "markdown",
      "source": [
        "In-Context Learning"
      ],
      "metadata": {
        "id": "r5FLxTLNTEc0"
      }
    },
    {
      "cell_type": "code",
      "source": [
        "# incorrect prompting\n",
        "prompt = \"\"\"Translate the following English sentence to Spanish: \"Don't walk on eggshells around me.\"\"\"\n",
        "generate(prompt)"
      ],
      "metadata": {
        "colab": {
          "base_uri": "https://localhost:8080/"
        },
        "id": "KrBcv_MITLOn",
        "outputId": "cb52782a-6a5b-4d53-a628-f145747f5f4b"
      },
      "execution_count": null,
      "outputs": [
        {
          "output_type": "stream",
          "name": "stdout",
          "text": [
            "No camines sobre huevos a mi alrededor.\n"
          ]
        }
      ]
    },
    {
      "cell_type": "code",
      "source": [
        "# modification\n",
        "prompt = \"\"\"\n",
        "        I am a translation assistant trained to translate English to Spanish, considering specific cultural nuances and contexts.\n",
        "\n",
        "        Example 1:\n",
        "        English: \"To hit the bullseye\"\n",
        "        Spanish: \"Dar en el blanco\" (To be right, to be assertive)\n",
        "\n",
        "        Example 2:\n",
        "        English: \"It’s like apples and oranges\"\n",
        "        Spanish: \"No hay color\" (There is no comparison)\n",
        "\n",
        "        Now, translate the following English sentence to Spanish:\n",
        "        English: \"Don't walk on eggshells around me.\"\n",
        "        Spanish:\n",
        "        \"\"\"\n",
        "\n",
        "generate(prompt)"
      ],
      "metadata": {
        "id": "IHuzyvLiSdPl",
        "colab": {
          "base_uri": "https://localhost:8080/"
        },
        "outputId": "724a6293-c5b6-4c71-bb29-cb7f943a276f"
      },
      "execution_count": null,
      "outputs": [
        {
          "output_type": "stream",
          "name": "stdout",
          "text": [
            "\"No andes sobre huevos a mi alrededor.\" (Don't be overly cautious around me.)\n"
          ]
        }
      ]
    },
    {
      "cell_type": "markdown",
      "source": [
        "Chain of Thought"
      ],
      "metadata": {
        "id": "bx2-7tURWSa1"
      }
    },
    {
      "cell_type": "code",
      "source": [
        "# incorrect prompting\n",
        "prompt = \"Calculate the final price of a $20 item with a 10% discount.\"\n",
        "generate(prompt)"
      ],
      "metadata": {
        "colab": {
          "base_uri": "https://localhost:8080/"
        },
        "outputId": "33d8c0da-5066-4210-a405-d6491ea916f3",
        "id": "A8EOO0KNWM8B"
      },
      "execution_count": null,
      "outputs": [
        {
          "output_type": "stream",
          "name": "stdout",
          "text": [
            "The final price of a $20 item with a 10% discount is $18.\n"
          ]
        }
      ]
    },
    {
      "cell_type": "code",
      "source": [
        "# modification\n",
        "prompt = \"What is the sales price of an item that costs $20 and is on a 10% discount? Could you walk me through the calculation?\"\n",
        "generate(prompt)"
      ],
      "metadata": {
        "colab": {
          "base_uri": "https://localhost:8080/"
        },
        "outputId": "0d749d04-6c5d-49ff-fbc9-273fb5fc77f7",
        "id": "h2FkPiPzWM8D"
      },
      "execution_count": null,
      "outputs": [
        {
          "output_type": "stream",
          "name": "stdout",
          "text": [
            "The calculation for the sales price of an item on a 10% discount is as follows:\n",
            "\n",
            "Step 1: Calculate the discount amount:\n",
            "\n",
            "Discount Amount = 20 x 10% = 2\n",
            "\n",
            "Step 2: Calculate the sales price:\n",
            "\n",
            "Sales Price = 20 - 2 = 18\n",
            "\n",
            "Therefore, the sales price of the item is $18.\n"
          ]
        }
      ]
    },
    {
      "cell_type": "markdown",
      "source": [
        "Tree of Thought"
      ],
      "metadata": {
        "id": "ZicNZ149WVxK"
      }
    },
    {
      "cell_type": "code",
      "source": [
        "# incorrect prompting\n",
        "prompt = \"Which foliage plant is ideal for a garden in a tropical climate?\"\n",
        "generate(prompt)"
      ],
      "metadata": {
        "colab": {
          "base_uri": "https://localhost:8080/"
        },
        "outputId": "75ae900e-8ffd-4b72-ee96-ca0756e14f55",
        "id": "6bsc25CzWO0j"
      },
      "execution_count": null,
      "outputs": [
        {
          "output_type": "stream",
          "name": "stdout",
          "text": [
            "A Bird of Paradise (Strelitzia reginae) is an ideal foliage plant for a garden in a tropical climate. It is an evergreen perennial with large, banana-like leaves and stunning orange and blue flowers. It is also drought-tolerant and can thrive in full sun or partial shade.\n"
          ]
        }
      ]
    },
    {
      "cell_type": "code",
      "source": [
        "# modification\n",
        "prompt = \"I would like to grow a plant in my garden. I live in an area with tropical climate and like foliage plants. Could you analyze some options for me?\"\n",
        "generate(prompt)"
      ],
      "metadata": {
        "colab": {
          "base_uri": "https://localhost:8080/"
        },
        "outputId": "31e9dd37-0a8f-4b53-d0a8-5b4b0bd679c6",
        "id": "C5Y4km85WO0l"
      },
      "execution_count": null,
      "outputs": [
        {
          "output_type": "stream",
          "name": "stdout",
          "text": [
            "Yes, absolutely! Here are some great options for you to consider:\n",
            "\n",
            "1. Hibiscus: Hibiscus plants are a great choice for tropical climates. They come in a variety of colors and sizes, and they bloom throughout the year.\n",
            "\n",
            "2. Croton: Croton plants are known for their colorful foliage and can tolerate a wide range of temperatures. They prefer full sun and well-drained soil.\n",
            "\n",
            "3. Bird of Paradise: These plants are known for their spectacular flowers and can tolerate a wide range of temperatures. They prefer full sun and well-drained soil.\n",
            "\n",
            "4. Bamboo: Bamboo is a great option for tropical climates as it can tolerate a wide range of temperatures. It is a fast-growing plant and can provide a great privacy screen.\n",
            "\n",
            "5. Elephant Ear: Elephant ear plants are known for their large, beautiful leaves. They prefer full sun and well-drained soil.\n",
            "\n",
            "No matter which option you choose, make sure to research the particular plant’s needs and requirements before planting. Good luck!\n"
          ]
        }
      ]
    },
    {
      "cell_type": "markdown",
      "source": [
        "Algorithm of Thought"
      ],
      "metadata": {
        "id": "I7VM3P-TWaGX"
      }
    },
    {
      "cell_type": "code",
      "source": [
        "# incorrect prompting\n",
        "prompt = \"I have lost my car keys. Tell me one way to fix this problem.\"\n",
        "generate(prompt)"
      ],
      "metadata": {
        "colab": {
          "base_uri": "https://localhost:8080/"
        },
        "outputId": "e331c7b3-bb7a-408e-cdc6-e093d7fcb8e9",
        "id": "c8afHf6jWPUr"
      },
      "execution_count": null,
      "outputs": [
        {
          "output_type": "stream",
          "name": "stdout",
          "text": [
            "One way to fix this problem is to contact a locksmith to have your car locks rekeyed.\n"
          ]
        }
      ]
    },
    {
      "cell_type": "code",
      "source": [
        "# modification\n",
        "prompt = \"I have lost my car keys. Could you guide me about the different steps I can take to find them?\"\n",
        "generate(prompt)"
      ],
      "metadata": {
        "colab": {
          "base_uri": "https://localhost:8080/"
        },
        "outputId": "93559d23-37ee-4332-836c-d341260fc380",
        "id": "O9bO3J07WPUu"
      },
      "execution_count": null,
      "outputs": [
        {
          "output_type": "stream",
          "name": "stdout",
          "text": [
            "1. Check your home, car, and other areas where you usually keep your keys.\n",
            "2. Retrace your steps from earlier in the day to see if you left them somewhere.\n",
            "3. Ask family members or friends who may have seen your keys.\n",
            "4. Contact your car dealership or locksmith to see if they can provide a replacement key.\n",
            "5. If your car has a keyless entry system, you may be able to find a replacement remote online.\n",
            "6. If all else fails, you may need to have your car towed to the dealership to have the locks changed.\n"
          ]
        }
      ]
    },
    {
      "cell_type": "markdown",
      "source": [
        "RASCEF"
      ],
      "metadata": {
        "id": "bZ5KTQ7PWbyJ"
      }
    },
    {
      "cell_type": "code",
      "source": [
        "# incorrect prompting\n",
        "prompt = \"Can you give me a recipe for a pupmkin pie?\"\n",
        "generate(prompt)"
      ],
      "metadata": {
        "colab": {
          "base_uri": "https://localhost:8080/"
        },
        "outputId": "87e1921e-29ee-42c9-fc55-50462facd00f",
        "id": "kvnToLbVWPf2"
      },
      "execution_count": null,
      "outputs": [
        {
          "output_type": "stream",
          "name": "stdout",
          "text": [
            "Ingredients:\n",
            "-1 (15 ounce) can pumpkin puree\n",
            "-1 (14 ounce) can sweetened condensed milk\n",
            "-2 large eggs\n",
            "-1 teaspoon ground cinnamon\n",
            "-1/2 teaspoon ground ginger\n",
            "-1/2 teaspoon ground nutmeg\n",
            "-1/2 teaspoon salt\n",
            "-1 (9 inch) unbaked deep dish pie crust\n",
            "\n",
            "Instructions:\n",
            "1. Preheat oven to 425 degrees F (220 degrees C).\n",
            "2. In a large bowl, combine pumpkin, sweetened condensed milk, eggs, spices and salt. Mix until well blended.\n",
            "3. Pour mixture into pie crust.\n",
            "4. Bake in preheated oven for 15 minutes.\n",
            "5. Reduce the temperature to 350 degrees F (175 degrees C), and continue baking for 40 to 50 minutes, or until a knife inserted near the center comes out clean.\n",
            "6. Cool on a wire rack for 2 hours. Serve immediately or refrigerate. Enjoy!\n"
          ]
        }
      ]
    },
    {
      "cell_type": "code",
      "source": [
        "# modification\n",
        "prompt = \"\"\"I am looking to bake a pumpkin pie but for my vegan and keto friends.\n",
        "Could you provide a recipe with a list of ingredients and step-by-step instructions? Please provide appropriate substitutions for vegan and keto ingredients\n",
        "\"\"\"\n",
        "generate(prompt)"
      ],
      "metadata": {
        "colab": {
          "base_uri": "https://localhost:8080/"
        },
        "outputId": "be8e2e1f-1751-4256-fae1-68b7997654a9",
        "id": "H4nFmIQLWPf3"
      },
      "execution_count": null,
      "outputs": [
        {
          "output_type": "stream",
          "name": "stdout",
          "text": [
            "Vegan Keto Pumpkin Pie\n",
            "Ingredients:\n",
            "\n",
            "Crust:\n",
            "-1/2 cup almond flour\n",
            "-1/2 cup coconut flour\n",
            "-1/4 cup vegan butter, melted\n",
            "-1/4 cup monk fruit sweetener\n",
            "-1/4 teaspoon salt\n",
            "\n",
            "Filling:\n",
            "-1 15-ounce can pumpkin puree\n",
            "-1/4 cup almond milk\n",
            "-1/3 cup monk fruit sweetener\n",
            "-1 teaspoon ground cinnamon\n",
            "-1/2 teaspoon ground ginger\n",
            "-1/4 teaspoon ground nutmeg\n",
            "-1/4 teaspoon ground cloves\n",
            "-1/4 teaspoon salt\n",
            "\n",
            "Instructions:\n",
            "\n",
            "1. Preheat oven to 350°F (175°C).\n",
            "\n",
            "2. To make the crust, combine almond flour, coconut flour, melted vegan butter, monk fruit sweetener, and salt in a medium bowl. Stir until a dough forms.\n",
            "\n",
            "3. Press the dough into a 9-inch pie plate. Bake for 10 minutes, then set aside.\n",
            "\n",
            "4. To make the filling, combine pumpkin puree, almond milk, monk fruit sweetener, cinnamon, ginger, nutmeg, cloves, and salt in a medium bowl. Stir until well combined.\n"
          ]
        }
      ]
    },
    {
      "cell_type": "code",
      "source": [],
      "metadata": {
        "id": "NP3BoeG4ddss"
      },
      "execution_count": null,
      "outputs": []
    }
  ]
}