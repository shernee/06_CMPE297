{
  "nbformat": 4,
  "nbformat_minor": 0,
  "metadata": {
    "colab": {
      "provenance": [],
      "include_colab_link": true
    },
    "kernelspec": {
      "name": "python3",
      "display_name": "Python 3"
    },
    "language_info": {
      "name": "python"
    }
  },
  "cells": [
    {
      "cell_type": "markdown",
      "metadata": {
        "id": "view-in-github",
        "colab_type": "text"
      },
      "source": [
        "<a href=\"https://colab.research.google.com/github/shernee/06_CMPE297/blob/main/System_Prompts.ipynb\" target=\"_parent\"><img src=\"https://colab.research.google.com/assets/colab-badge.svg\" alt=\"Open In Colab\"/></a>"
      ]
    },
    {
      "cell_type": "code",
      "execution_count": null,
      "metadata": {
        "colab": {
          "base_uri": "https://localhost:8080/"
        },
        "id": "c3qb4e9V2Evm",
        "outputId": "8fcb3869-9668-4d99-c7d5-e30ae04e5255"
      },
      "outputs": [
        {
          "output_type": "stream",
          "name": "stdout",
          "text": [
            "Collecting openai\n",
            "  Downloading openai-0.28.1-py3-none-any.whl (76 kB)\n",
            "\u001b[?25l     \u001b[90m━━━━━━━━━━━━━━━━━━━━━━━━━━━━━━━━━━━━━━━━\u001b[0m \u001b[32m0.0/77.0 kB\u001b[0m \u001b[31m?\u001b[0m eta \u001b[36m-:--:--\u001b[0m\r\u001b[2K     \u001b[90m━━━━━━━━━━━━━━━━━━━━━━━━━━━━━━━━━━━━━━━━\u001b[0m \u001b[32m77.0/77.0 kB\u001b[0m \u001b[31m2.6 MB/s\u001b[0m eta \u001b[36m0:00:00\u001b[0m\n",
            "\u001b[?25hRequirement already satisfied: requests>=2.20 in /usr/local/lib/python3.10/dist-packages (from openai) (2.31.0)\n",
            "Requirement already satisfied: tqdm in /usr/local/lib/python3.10/dist-packages (from openai) (4.66.1)\n",
            "Requirement already satisfied: aiohttp in /usr/local/lib/python3.10/dist-packages (from openai) (3.8.6)\n",
            "Requirement already satisfied: charset-normalizer<4,>=2 in /usr/local/lib/python3.10/dist-packages (from requests>=2.20->openai) (3.3.1)\n",
            "Requirement already satisfied: idna<4,>=2.5 in /usr/local/lib/python3.10/dist-packages (from requests>=2.20->openai) (3.4)\n",
            "Requirement already satisfied: urllib3<3,>=1.21.1 in /usr/local/lib/python3.10/dist-packages (from requests>=2.20->openai) (2.0.7)\n",
            "Requirement already satisfied: certifi>=2017.4.17 in /usr/local/lib/python3.10/dist-packages (from requests>=2.20->openai) (2023.7.22)\n",
            "Requirement already satisfied: attrs>=17.3.0 in /usr/local/lib/python3.10/dist-packages (from aiohttp->openai) (23.1.0)\n",
            "Requirement already satisfied: multidict<7.0,>=4.5 in /usr/local/lib/python3.10/dist-packages (from aiohttp->openai) (6.0.4)\n",
            "Requirement already satisfied: async-timeout<5.0,>=4.0.0a3 in /usr/local/lib/python3.10/dist-packages (from aiohttp->openai) (4.0.3)\n",
            "Requirement already satisfied: yarl<2.0,>=1.0 in /usr/local/lib/python3.10/dist-packages (from aiohttp->openai) (1.9.2)\n",
            "Requirement already satisfied: frozenlist>=1.1.1 in /usr/local/lib/python3.10/dist-packages (from aiohttp->openai) (1.4.0)\n",
            "Requirement already satisfied: aiosignal>=1.1.2 in /usr/local/lib/python3.10/dist-packages (from aiohttp->openai) (1.3.1)\n",
            "Installing collected packages: openai\n",
            "\u001b[31mERROR: pip's dependency resolver does not currently take into account all the packages that are installed. This behaviour is the source of the following dependency conflicts.\n",
            "llmx 0.0.15a0 requires cohere, which is not installed.\n",
            "llmx 0.0.15a0 requires tiktoken, which is not installed.\u001b[0m\u001b[31m\n",
            "\u001b[0mSuccessfully installed openai-0.28.1\n"
          ]
        }
      ],
      "source": [
        "!pip install openai"
      ]
    },
    {
      "cell_type": "code",
      "source": [
        "import openai"
      ],
      "metadata": {
        "id": "Iz2gVD8q2H8H"
      },
      "execution_count": null,
      "outputs": []
    },
    {
      "cell_type": "code",
      "source": [
        "openai.api_key = \"\""
      ],
      "metadata": {
        "id": "UwDdvX6l2I2I"
      },
      "execution_count": null,
      "outputs": []
    },
    {
      "cell_type": "code",
      "source": [
        "def generate_response(messages):\n",
        "  response = openai.ChatCompletion.create(\n",
        "      model=\"gpt-3.5-turbo\",\n",
        "      messages=messages,\n",
        "      temperature = 0.5,\n",
        "      max_tokens = 512\n",
        "  )\n",
        "  return response['choices'][0]['message']['content']"
      ],
      "metadata": {
        "id": "vSvDaze-2P4v"
      },
      "execution_count": null,
      "outputs": []
    },
    {
      "cell_type": "code",
      "source": [
        "# making the AI assistant behave like a seasoned winemaker and giving it a user query\n",
        "\n",
        "messages = [\n",
        "    {\"role\": \"system\", \"content\": \"\"\"You are an expert winemaker. You have to guide users who have absolutely no idea about winemaking to understand the\n",
        "    the basic theory and practical aspect of winemakinh. Start by explaining the chemistry behind making wine,\n",
        "    and then move on to the practical steps involved in the process. Be clear and thorough in your explanations\"\"\"},\n",
        "     {\"role\": \"user\", \"content\": \"I would like to make some wine but I've never done it before. Could you tell me how it is made?\"}\n",
        "    ]\n",
        "\n",
        "print(generate_response(messages))"
      ],
      "metadata": {
        "colab": {
          "base_uri": "https://localhost:8080/"
        },
        "id": "oijk5e3W2sWc",
        "outputId": "fc88157a-a4e6-42e6-e049-637e14f76ca0"
      },
      "execution_count": null,
      "outputs": [
        {
          "output_type": "stream",
          "name": "stdout",
          "text": [
            "Of course! Making wine involves a combination of art and science. Let's start with the chemistry behind winemaking.\n",
            "\n",
            "The main chemical process in winemaking is fermentation. Fermentation is the conversion of sugar into alcohol by yeast. Yeast consumes the sugar present in grape juice and produces alcohol, carbon dioxide, and heat as byproducts.\n",
            "\n",
            "Here are the basic steps involved in making wine:\n",
            "\n",
            "1. Harvesting: The first step is to harvest ripe grapes. Grapes should be picked at the right time to ensure optimal sugar and acid levels. The quality of grapes greatly affects the quality of the final wine.\n",
            "\n",
            "2. Crushing and Pressing: The harvested grapes are then crushed to release the juice. Traditionally, this was done by stomping on the grapes, but nowadays, mechanical crushers are commonly used. After crushing, the juice is separated from the solid parts of the grapes through pressing.\n",
            "\n",
            "3. Fermentation: The extracted grape juice is transferred to a fermentation vessel, usually a fermentation tank or a barrel. At this stage, yeast is added to the juice, which starts the fermentation process. The yeast consumes the sugars in the juice and converts them into alcohol. The temperature and duration of fermentation depend on the desired style of wine. Red wines are usually fermented at higher temperatures to extract more color and tannins, while white wines are fermented at lower temperatures to preserve their delicate flavors.\n",
            "\n",
            "4. Aging: After fermentation, the wine is typically aged to develop its flavors and aromas. Aging can be done in stainless steel tanks, oak barrels, or a combination of both. The choice of aging vessel depends on the desired characteristics of the wine. Oak barrels add additional flavors and complexity to the wine.\n",
            "\n",
            "5. Clarification: During aging, sediments may form in the wine. To clarify the wine, it is often racked or filtered to remove these sediments. This process helps improve the wine's clarity and stability.\n",
            "\n",
            "6. Bottling: Once the wine has matured and clarified, it is ready for bottling. The wine is transferred to bottles, and in some cases, additional sugar and yeast may be added to induce a secondary fermentation, resulting in the formation of bubbles in sparkling wines. The bottles are then sealed with corks or other closures.\n",
            "\n",
            "7. Aging in the Bottle: Some wines benefit from further aging in the bottle before they are consumed. This aging allows the flavors and aromas to further develop and integrate.\n",
            "\n",
            "It's important to note that winemaking is a complex and nuanced process, and there are many variations and\n"
          ]
        }
      ]
    },
    {
      "cell_type": "code",
      "source": [
        "# Giving some context to AI for a desired response\n",
        "\n",
        "messages = [\n",
        "    {\"role\": \"system\", \"content\": \"\"\"You are an assistant that helps users generate creative ideas for their projects. Provide imaginative and diverse suggestions\"\"\"},\n",
        "     {\"role\": \"user\", \"content\": \"Could you give me some ideas for a painting on the topic 'Utopia'\"}\n",
        "\n",
        "]\n",
        "print(generate_response(messages))"
      ],
      "metadata": {
        "colab": {
          "base_uri": "https://localhost:8080/"
        },
        "id": "bMbH0ia838rz",
        "outputId": "54433352-df54-4cec-b268-dd502fa76401"
      },
      "execution_count": null,
      "outputs": [
        {
          "output_type": "stream",
          "name": "stdout",
          "text": [
            "1. \"The Perfect City\": Create a vibrant and futuristic cityscape that represents an ideal utopian society. Use bright colors and architectural elements that convey harmony, innovation, and sustainability.\n",
            "\n",
            "2. \"Nature's Paradise\": Depict a lush and untouched natural landscape, where flora and fauna thrive in perfect harmony. Use a mix of vibrant and serene colors to capture the tranquility and beauty of an ideal utopian environment.\n",
            "\n",
            "3. \"Inner Utopia\": Explore the concept of personal utopia by creating a painting that represents an individual's ideal world. Use symbolism and abstract elements to convey inner peace, self-discovery, and fulfillment.\n",
            "\n",
            "4. \"Utopian Equality\": Create a powerful image that symbolizes equality and inclusivity. Depict diverse individuals from different cultures, backgrounds, and abilities coming together in harmony, embracing their differences and celebrating their shared humanity.\n",
            "\n",
            "5. \"Utopian Journey\": Paint a surreal and dreamlike landscape that represents a journey towards a utopian society. Use symbolism and imagery that represents progress, hope, and unity, such as bridges, floating islands, or flying vehicles.\n",
            "\n",
            "6. \"Utopian Technology\": Imagine a world where advanced technology is seamlessly integrated into society for the betterment of humanity. Create a painting that showcases futuristic inventions, such as sustainable energy sources, advanced transportation systems, or innovative healthcare solutions.\n",
            "\n",
            "7. \"Utopian Reflections\": Explore the theme of self-reflection and personal growth in a utopian society. Paint a serene and ethereal scene where individuals engage in introspection, meditation, or contemplation, surrounded by elements that represent inner peace and enlightenment.\n",
            "\n",
            "8. \"Utopian Coexistence\": Depict a harmonious coexistence between humans and nature in a utopian world. Show humans and animals living in harmony, with sustainable practices and a deep respect for the environment.\n",
            "\n",
            "9. \"Utopian Creativity\": Create a vibrant and energetic painting that represents a society where creativity and artistic expression flourish. Use bold colors, abstract shapes, and dynamic brushstrokes to convey a sense of imagination, innovation, and freedom of expression.\n",
            "\n",
            "10. \"Utopian Legacy\": Paint a scene that represents a utopian society's legacy for future generations. Show elements like education, cultural preservation, and sustainable practices being passed down, creating a positive and prosperous future.\n"
          ]
        }
      ]
    },
    {
      "cell_type": "code",
      "source": [],
      "metadata": {
        "id": "RweAZtEUAtGQ"
      },
      "execution_count": null,
      "outputs": []
    }
  ]
}